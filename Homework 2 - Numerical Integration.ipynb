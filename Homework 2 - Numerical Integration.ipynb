{
 "cells": [
  {
   "cell_type": "markdown",
   "metadata": {},
   "source": [
    "# Numerical Integration\n",
    "## AEP 4380"
   ]
  },
  {
   "cell_type": "markdown",
   "metadata": {},
   "source": [
    "### Problem Background\n",
    "<p>The purpose of this assignment is to familiarize oneself with numerical integration. One must evaluate a set of integrals using discrete sums of sufficient resolution to deliver a function which describes light waves near a cliff which has a size on the order of magnitude of the waves themselves.<br>\n",
    "\n",
    "Conveniently, the assignment describes both the problem and solution. Fresnel diffraction theory comes to the conclusion that light waves traveling perpendicular to an opaque barrier have an intensity $I$ as a function of $x_0$, the parallel distance from the edge of the barrier, which sits at $z$ above the observation plane: \n",
    "\n",
    "<p align=\"center\">\n",
    "  <img src=\"img/a2/Fresnel_diffraction.png\" width=\"400\" alt=\"https://en.wikipedia.org/wiki/File:Finite_difference_method.svg\"/>\n",
    "</p>\n",
    "\n",
    "$$I\\left(x_0\\right) =\\text { const. } \\times\\left|\\int_0^{+\\infty} \\exp \\left[\\frac{i \\pi}{\\lambda z}\\left(x_0-x\\right)^2\\right] d x\\right|^2\n",
    "\n",
    "=\\frac{I_0}{\\lambda z}\\left|\\int_{-\\infty}^{x_0} \\exp \\left(\\frac{i \\pi x^2}{\\lambda z}\\right) d x\\right|^2$$\n",
    "\n",
    "Since this integral does not behave very well, the assignment suggests evaluating the following integrals instead, which break the same problem into equations which are easier to evaluate:\n",
    "\n",
    "$$I(u_0) = \\frac{1}{2}I_0\\{[C(u_0)-C(-\\infty)]^2+[S(u_0)-S(-\\infty)]^2\\}$$\n",
    "\n",
    "$$C(u_0) = \\int_{0}^{u_0}cos\\left(\\frac{\\pi}{2}u^2\\right)du$$\n",
    "\n",
    "$$S(u_0) = \\int_{0}^{u_0}sin\\left(\\frac{\\pi}{2}u^2\\right)du$$\n",
    "\n",
    "$$u_0 = x_0\\sqrt{\\frac{2}{\\lambda z}}$$\n",
    "\n",
    "The value $u_0$ is a dimensionless parameter, and $C(-\\infty) = S(-\\infty) = 0.5$.\n",
    "</p>"
   ]
  },
  {
   "cell_type": "code",
   "execution_count": 1,
   "metadata": {},
   "outputs": [],
   "source": [
    "# The usual imports\n",
    "import matplotlib.pyplot as plt\n",
    "import numpy as np, scipy as sp\n",
    "import math\n",
    "plt.style.use('dark_background') #Don't judge me\n",
    "plt.rcParams['figure.figsize'] = [20, 10]"
   ]
  },
  {
   "cell_type": "markdown",
   "metadata": {},
   "source": [
    "Step one is to define variables and a couple of helper functions. In this case I find it easy to separate the integrand to the Fresnel integrals, since I'll be evaluating them repeatedly. This also affords an opportunity to separate my trapezoid-rule-based integration method into a more generic function which can take any set of variables and functions to evaluate (provided that the integral is finite)."
   ]
  },
  {
   "cell_type": "code",
   "execution_count": 3,
   "metadata": {},
   "outputs": [],
   "source": [
    "#integrand of the Fresnel integrals, as lambda functions\n",
    "fres_cos = lambda u: math.cos(math.pi*0.5*u*u)\n",
    "fres_sin = lambda u: math.sin(math.pi*0.5*u*u)\n",
    "#u_0 as a function of z, lambda, and x_0\n",
    "u_0 = lambda x_0, l, z: x_0*(2/(l*z))**0.5\n",
    "#constants and variables\n",
    "C_inf = S_inf = -0.5"
   ]
  },
  {
   "cell_type": "code",
   "execution_count": 4,
   "metadata": {},
   "outputs": [],
   "source": [
    "def trap_rule(xmin, xmax, func_eval, points = 0, tol = 0):\n",
    "    if(points==0 and tol==0):\n",
    "        raise Exception(\"Please define either a number of points, or a tolerance, with which an integral can be taken.\")\n",
    "    elif(points<0 or tol<0):\n",
    "        raise Exception(\"Please define a positive tolerance or number of points.\")\n",
    "    elif(points>0 and tol>0):\n",
    "        raise Exception(\"Please choose to either a number of points or a tolerance value.\")\n",
    "    #uses recursive form of the trapezoid rule to evaluate\n",
    "    #func_eval between xmin and xmax to a tolerance of tol or \n",
    "    #for a set of intervals=points-1\n",
    "    if(points>0 and tol==0):\n",
    "        if(points==1):\n",
    "            raise Exception(\"Please choose at least 2 points of evaluation.\")\n",
    "        #calculate the integral based on intervals = points-1\n",
    "        #print(\"Integral based on \"+str(points-1)+\" interval(s).\")\n",
    "        dx=(xmax-xmin)/(points-1)\n",
    "        trap = 0.0\n",
    "        i=1\n",
    "        while(i<points-1): #add all trapezoids except first and last one\n",
    "            trap = trap + func_eval(xmin+i*dx) \n",
    "            i = i+1\n",
    "        #add the first and last points as counted once (take average)    \n",
    "        result = (trap+0.5*(func_eval(xmin)+func_eval(xmax)))*dx    \n",
    "        return result #,points-1\n",
    "    elif(points==0 and tol>0):\n",
    "        #calculate the integral recursively based on tolerance\n",
    "        #print(\"Integral to a tolerance of \"+str(tol)+\" units.\")\n",
    "        dx = (xmax-xmin) #width\n",
    "        intervals = 1\n",
    "        #starting approx is a single big trapezoid\n",
    "        trap = 0.5*(func_eval(xmin)+func_eval(xmax)) #height\n",
    "        integral_new = dx*trap #width*height\n",
    "        integral_old = integral_new+2*tol #starting val    \n",
    "        #until we are precise, \n",
    "        #keep doubling intervals and recalculating\n",
    "        while abs(integral_new-integral_old)>abs(tol) or intervals<8:\n",
    "            intervals = intervals*2\n",
    "            dx = (xmax-xmin)/intervals\n",
    "            integral_old = integral_new\n",
    "            i=1\n",
    "            while(i<intervals): #add in the in-between trapezoids\n",
    "                trap = trap + func_eval(xmin+i*dx) \n",
    "                i = i+2\n",
    "            integral_new = (trap)*dx            \n",
    "        return integral_new#,intervals"
   ]
  },
  {
   "cell_type": "code",
   "execution_count": 5,
   "metadata": {},
   "outputs": [],
   "source": [
    "def fresnel_C(u_0, points=0, tol=0):\n",
    "    return trap_rule(0,u_0,fres_cos,points,tol)"
   ]
  },
  {
   "cell_type": "code",
   "execution_count": 6,
   "metadata": {},
   "outputs": [],
   "source": [
    "def fresnel_S(u_0, points=0, tol=0):\n",
    "    return trap_rule(0,u_0,fres_sin,points,tol)"
   ]
  },
  {
   "cell_type": "code",
   "execution_count": 7,
   "metadata": {},
   "outputs": [],
   "source": [
    "def u_naught(x_0, lam, zed):\n",
    "    frac = (2/(lam*zed))**0.5    \n",
    "    return x_0*frac"
   ]
  },
  {
   "cell_type": "code",
   "execution_count": null,
   "metadata": {},
   "outputs": [],
   "source": []
  },
  {
   "cell_type": "code",
   "execution_count": 8,
   "metadata": {},
   "outputs": [],
   "source": [
    "def intensity(u_0, points=0, tol=0):\n",
    "    C_part = (fresnel_C(u_0, points, tol)-C_inf)\n",
    "    S_part = (fresnel_S(u_0, points, tol)-S_inf)\n",
    "    return 0.5*(C_part*C_part+S_part*S_part)"
   ]
  },
  {
   "cell_type": "markdown",
   "metadata": {},
   "source": [
    "Chart accuracy of calculation for various numbers of points"
   ]
  },
  {
   "cell_type": "code",
   "execution_count": 9,
   "metadata": {},
   "outputs": [],
   "source": [
    "u_is_3 = np.empty(12)\n",
    "u_is_p5 = np.empty(12)\n",
    "i=0\n",
    "for n in range(2,14):\n",
    "    u_is_3[i] = intensity(3,points = 2**n)\n",
    "    u_is_p5[i] = intensity(0.5,points = 2**n)\n",
    "    i = i+1"
   ]
  },
  {
   "cell_type": "code",
   "execution_count": 10,
   "metadata": {
    "scrolled": true
   },
   "outputs": [
    {
     "name": "stdout",
     "output_type": "stream",
     "text": [
      "\t\tu_0 = 0.5 \t\tu_0 = 3\n",
      "points: 4\t0.6523764475540318\t3.9999999999999996\n",
      "points: 8\t0.6519305710316761\t0.9226875214725248\n",
      "points: 16\t0.6518555837174023\t1.0714732514522431\n",
      "points: 32\t0.6518397290998141\t1.0994203097242432\n",
      "points: 64\t0.6518360625363202\t1.105655393288219\n",
      "points: 128\t0.6518351797726517\t1.1071441762281402\n",
      "points: 256\t0.6518349631320459\t1.1075088134568198\n",
      "points: 512\t0.651834909467208\t1.107599094860617\n",
      "points: 1024\t0.6518348961122434\t1.107621559451759\n",
      "points: 2048\t0.651834892781117\t1.1076271626222505\n",
      "points: 4096\t0.6518348919492836\t1.1076285618076962\n",
      "points: 8192\t0.6518348917414453\t1.107628911404094\n"
     ]
    }
   ],
   "source": [
    "print(\"\\t\\tu_0 = 0.5 \\t\\tu_0 = 3\")\n",
    "for i in range(len(u_is_p5)):\n",
    "    print(\"points: \"+str(2**(i+2)), end=\"\\t\")\n",
    "    print(u_is_p5[i],end = \"\\t\")\n",
    "    print(u_is_3[i])"
   ]
  },
  {
   "cell_type": "code",
   "execution_count": 11,
   "metadata": {},
   "outputs": [],
   "source": [
    "def intensity_in_space(xmin,xmax,wavlen,zdist,num,points=0,tol=0):\n",
    "    data = [0]*num\n",
    "    xaxis = [0]*num\n",
    "    delta = (xmax-xmin)/(num-1)\n",
    "    for i in range(num-1):\n",
    "        xaxis[i] = xmin+i*delta\n",
    "        data[i] = intensity(u_naught(xaxis[i],wavlen,zdist),points,tol)\n",
    "    xaxis[num-1] = xmax\n",
    "    data[num-1] = intensity(u_naught(xmax,wavlen,zdist),points,tol)   \n",
    "    return xaxis,data    "
   ]
  },
  {
   "cell_type": "code",
   "execution_count": 19,
   "metadata": {},
   "outputs": [],
   "source": [
    "data = intensity_in_space(-1e-6,4e-6,0.5e-6,1e-6,1000,tol=.000001)"
   ]
  },
  {
   "cell_type": "code",
   "execution_count": 20,
   "metadata": {
    "scrolled": true
   },
   "outputs": [
    {
     "data": {
      "image/png": "[encoded data removed]",
      "text/plain": [
       "<Figure size 432x288 with 1 Axes>"
      ]
     },
     "metadata": {
      "needs_background": "light"
     },
     "output_type": "display_data"
    }
   ],
   "source": [
    "plt.plot(data[0],data[1])\n",
    "plt.title(\"${I/I_0}(x_0)$\")\n",
    "plt.xlabel(\"distance from ledge (m)\");\n",
    "plt.ylabel(\"${I/I_0}$\");"
   ]
  }
 ],
 "metadata": {
  "kernelspec": {
   "display_name": "Python 3",
   "language": "python",
   "name": "python3"
  },
  "language_info": {
   "codemirror_mode": {
    "name": "ipython",
    "version": 3
   },
   "file_extension": ".py",
   "mimetype": "text/x-python",
   "name": "python",
   "nbconvert_exporter": "python",
   "pygments_lexer": "ipython3",
   "version": "3.9.12"
  }
 },
 "nbformat": 4,
 "nbformat_minor": 2
}
