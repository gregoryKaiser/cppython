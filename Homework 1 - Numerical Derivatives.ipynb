{
 "cells": [
  {
   "cell_type": "markdown",
   "metadata": {},
   "source": [
    "# Numerical Derivatives\n",
    "## AEP 4380 test test"
   ]
  },
  {
   "cell_type": "code",
   "execution_count": 1,
   "metadata": {},
   "outputs": [],
   "source": [
    "import matplotlib.pyplot as plt\n",
    "import numpy as np, scipy as sp"
   ]
  },
  {
   "cell_type": "code",
   "execution_count": null,
   "metadata": {},
   "outputs": [],
   "source": [
    "DECAY_VAL = .04\n",
    "def sinc(scale, decay, x):\n",
    "    return scale*np.sin(x)*np.exp(-1*decay*x*x)"
   ]
  },
  {
   "cell_type": "markdown",
   "metadata": {},
   "source": [
    "First Derivative"
   ]
  },
  {
   "cell_type": "code",
   "execution_count": null,
   "metadata": {},
   "outputs": [],
   "source": [
    "def deriv_forward(h, steps, xmin, xmax):\n",
    "    deriv = np.zeros(steps)\n",
    "    function = np.zeros(steps)\n",
    "    delta = (xmax-xmin)/(steps-1)\n",
    "    for i in range(0,steps-1):\n",
    "        x = i*delta+xmin\n",
    "        #function evaluation\n",
    "        func_now = sinc(1, DECAY_VAL, x)\n",
    "        func_prev = sinc(1, DECAY_VAL, x-h)\n",
    "        #derivative evaluation\n",
    "        deriv[i] = (func_now-func_prev)/h\n",
    "        function[i] = sinc(1, DECAY_VAL, x)\n",
    "    return function,deriv "
   ]
  },
  {
   "cell_type": "code",
   "execution_count": null,
   "metadata": {},
   "outputs": [],
   "source": [
    "def deriv_backward(h, steps, xmin, xmax):\n",
    "    deriv = np.zeros(steps)\n",
    "    function = np.zeros(steps)\n",
    "    delta = (xmax-xmin)/(steps-1)\n",
    "    for i in range(0,steps-1):\n",
    "        x = i*delta+xmin\n",
    "        #function evaluation\n",
    "        func_now = sinc(1, DECAY_VAL, x+h)\n",
    "        func_prev = sinc(1, DECAY_VAL, x)\n",
    "        #derivative evaluation\n",
    "        deriv[i] = (func_now-func_prev)/h\n",
    "        function[i] = sinc(1, DECAY_VAL, x)\n",
    "    return function,deriv "
   ]
  },
  {
   "cell_type": "code",
   "execution_count": null,
   "metadata": {},
   "outputs": [],
   "source": [
    "def deriv_central(h, steps, xmin, xmax):\n",
    "    deriv = np.zeros(steps)\n",
    "    function = np.zeros(steps)\n",
    "    delta = (xmax-xmin)/(steps-1)\n",
    "    for i in range(0,steps-1):\n",
    "        x = i*delta+xmin\n",
    "        #function evaluation\n",
    "        func_now = sinc(1, DECAY_VAL, x+h)\n",
    "        func_prev = sinc(1, DECAY_VAL, x-h)\n",
    "        #derivative evaluation\n",
    "        deriv[i] = (func_now-func_prev)/(2*h)\n",
    "        function[i] = sinc(1, DECAY_VAL, x)\n",
    "    return function,deriv "
   ]
  },
  {
   "cell_type": "code",
   "execution_count": null,
   "metadata": {
    "scrolled": true
   },
   "outputs": [],
   "source": [
    "data_f = deriv_forward(0.5,200,-7,+7)\n",
    "data_b = deriv_backward(0.5,200,-7,+7)\n",
    "data_c = deriv_central(0.5,200,-7,+7)\n",
    "xval = np.linspace(-7,7,200)\n",
    "plt.title(\"Forward, Backward, and Central difference methods with h=0.5\")\n",
    "plt.plot(xval,data_f[0])\n",
    "plt.plot(xval,data_f[1])\n",
    "plt.plot(xval,data_b[1])\n",
    "plt.plot(xval,data_c[1])\n",
    "plt.legend([\"$f(x)$\",\"$f'(x)_f$\",\"$f'(x)_b$\",\"$f'(x)_c$\"])"
   ]
  },
  {
   "cell_type": "code",
   "execution_count": null,
   "metadata": {},
   "outputs": [],
   "source": [
    "data_f = deriv_forward(0.05,200,-7,+7)\n",
    "data_b = deriv_backward(0.05,200,-7,+7)\n",
    "data_c = deriv_central(0.05,200,-7,+7)\n",
    "xval = np.linspace(-7,7,200)\n",
    "plt.title(\"Forward, Backward, and Central difference methods with h=0.05\")\n",
    "plt.plot(xval,data_f[0])\n",
    "plt.plot(xval,data_f[1])\n",
    "plt.plot(xval,data_b[1])\n",
    "plt.plot(xval,data_c[1])\n",
    "plt.legend([\"$f(x)$\",\"$f'(x)_f$\",\"$f'(x)_b$\",\"$f'(x)_c$\"])"
   ]
  },
  {
   "cell_type": "code",
   "execution_count": null,
   "metadata": {
    "scrolled": false
   },
   "outputs": [],
   "source": [
    "data_fp05 = deriv_forward(0.05,200,-7,+7)\n",
    "data_fp5 = deriv_forward(0.5,200,-7,+7)\n",
    "xval = np.linspace(-7,7,200)\n",
    "plt.title(\"Forward difference method with h=0.05 and h=0.5\")\n",
    "plt.plot(xval,data_fp05[0])\n",
    "plt.plot(xval,data_fp05[1])\n",
    "plt.plot(xval,data_fp5[1])\n",
    "plt.legend([\"$f(x)$\",\"$f'(x)_f$; $h=0.05$\",\"$f'(x)_f$; $h=0.5$\"])"
   ]
  },
  {
   "cell_type": "markdown",
   "metadata": {},
   "source": [
    "Second Derivative"
   ]
  },
  {
   "cell_type": "code",
   "execution_count": null,
   "metadata": {},
   "outputs": [],
   "source": [
    "def second_deriv_f(h, steps, xmin, xmax):\n",
    "    deriv = np.zeros(steps)\n",
    "    function = np.zeros(steps)\n",
    "    delta = (xmax-xmin)/(steps-1)\n",
    "    for i in range(0,steps-1):\n",
    "        x = i*delta+xmin\n",
    "        #function evaluation\n",
    "        func_ahead = sinc(1, DECAY_VAL, x+2*h)\n",
    "        func_plus = sinc(1, DECAY_VAL, x+h)\n",
    "        func_now = sinc(1, DECAY_VAL, x)\n",
    "        #derivative evaluation\n",
    "        deriv[i] = (func_ahead-2*func_plus+func_now)/(h*h)\n",
    "        function[i] = sinc(1, DECAY_VAL, x)\n",
    "    return function,deriv "
   ]
  },
  {
   "cell_type": "code",
   "execution_count": null,
   "metadata": {},
   "outputs": [],
   "source": [
    "def second_deriv_b(h, steps, xmin, xmax):\n",
    "    deriv = np.zeros(steps)\n",
    "    function = np.zeros(steps)\n",
    "    delta = (xmax-xmin)/(steps-1)\n",
    "    for i in range(0,steps-1):\n",
    "        x = i*delta+xmin\n",
    "        #function evaluation\n",
    "        func_behind = sinc(1, DECAY_VAL, x-2*h)\n",
    "        func_minus = sinc(1, DECAY_VAL, x-h)\n",
    "        func_now = sinc(1, DECAY_VAL, x)\n",
    "        #derivative evaluation\n",
    "        deriv[i] = (func_now-2*func_minus+func_behind)/(h*h)\n",
    "        function[i] = sinc(1, DECAY_VAL, x)\n",
    "    return function,deriv "
   ]
  },
  {
   "cell_type": "code",
   "execution_count": null,
   "metadata": {},
   "outputs": [],
   "source": [
    "def second_deriv_c(h, steps, xmin, xmax):\n",
    "    deriv = np.zeros(steps)\n",
    "    function = np.zeros(steps)\n",
    "    delta = (xmax-xmin)/(steps-1)\n",
    "    for i in range(0,steps-1):\n",
    "        x = i*delta+xmin\n",
    "        #function evaluation\n",
    "        func_plus = sinc(1, DECAY_VAL, x+h)\n",
    "        func_minus = sinc(1, DECAY_VAL, x-h)\n",
    "        func_now = sinc(1, DECAY_VAL, x)\n",
    "        #derivative evaluation\n",
    "        deriv[i] = (func_plus-2*func_now+func_minus)/(h*h)\n",
    "        function[i] = sinc(1, DECAY_VAL, x)\n",
    "    return function,deriv "
   ]
  },
  {
   "cell_type": "code",
   "execution_count": null,
   "metadata": {},
   "outputs": [],
   "source": [
    "data_f = second_deriv_f(0.05,200,-7,+7)\n",
    "data_b = second_deriv_b(0.05,200,-7,+7)\n",
    "data_c = second_deriv_c(0.05,200,-7,+7)\n",
    "xval = np.linspace(-7,7,200)\n",
    "plt.title(\"2nd Deriv: Forward, Backward, and Central difference methods with h=0.05\")\n",
    "plt.plot(xval,data_f[0])\n",
    "plt.plot(xval,data_f[1])\n",
    "plt.plot(xval,data_b[1])\n",
    "plt.plot(xval,data_c[1])\n",
    "plt.legend([\"$f(x)$\",\"$f''(x)_f$\",\"$f''(x)_b$\",\"$f''(x)_c$\"])"
   ]
  }
 ],
 "metadata": {
  "kernelspec": {
   "display_name": "Python 3 (ipykernel)",
   "language": "python",
   "name": "python3"
  },
  "language_info": {
   "codemirror_mode": {
    "name": "ipython",
    "version": 3
   },
   "file_extension": ".py",
   "mimetype": "text/x-python",
   "name": "python",
   "nbconvert_exporter": "python",
   "pygments_lexer": "ipython3",
   "version": "3.8.10"
  }
 },
 "nbformat": 4,
 "nbformat_minor": 2
}
