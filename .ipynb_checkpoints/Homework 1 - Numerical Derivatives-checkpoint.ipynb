{
 "cells": [
  {
   "cell_type": "code",
   "execution_count": 2,
   "metadata": {},
   "outputs": [
    {
     "ename": "ModuleNotFoundError",
     "evalue": "No module named 'scipy'",
     "output_type": "error",
     "traceback": [
      "\u001b[0;31m---------------------------------------------------------------------------\u001b[0m",
      "\u001b[0;31mModuleNotFoundError\u001b[0m                       Traceback (most recent call last)",
      "Input \u001b[0;32mIn [2]\u001b[0m, in \u001b[0;36m<cell line: 3>\u001b[0;34m()\u001b[0m\n\u001b[1;32m      1\u001b[0m \u001b[38;5;28;01mimport\u001b[39;00m \u001b[38;5;21;01mmatplotlib\u001b[39;00m\u001b[38;5;21;01m.\u001b[39;00m\u001b[38;5;21;01mpyplot\u001b[39;00m \u001b[38;5;28;01mas\u001b[39;00m \u001b[38;5;21;01mplt\u001b[39;00m\n\u001b[1;32m      2\u001b[0m \u001b[38;5;66;03m# plt.rcParams['text.usetex'] = False\u001b[39;00m\n\u001b[0;32m----> 3\u001b[0m \u001b[38;5;28;01mimport\u001b[39;00m \u001b[38;5;21;01mnumpy\u001b[39;00m \u001b[38;5;28;01mas\u001b[39;00m \u001b[38;5;21;01mnp\u001b[39;00m\u001b[38;5;241m,\u001b[39m \u001b[38;5;21;01mscipy\u001b[39;00m \u001b[38;5;28;01mas\u001b[39;00m \u001b[38;5;21;01msp\u001b[39;00m\n",
      "\u001b[0;31mModuleNotFoundError\u001b[0m: No module named 'scipy'"
     ]
    }
   ],
   "source": [
    "import matplotlib.pyplot as plt\n",
    "# plt.rcParams['text.usetex'] = False\n",
    "import numpy as np, scipy as sp"
   ]
  },
  {
   "cell_type": "code",
   "execution_count": null,
   "metadata": {},
   "outputs": [],
   "source": [
    "DECAY_VAL = .04\n",
    "def sinc(scale, decay, x):\n",
    "    return scale*np.sin(x)*np.exp(-1*decay*x*x)"
   ]
  },
  {
   "cell_type": "markdown",
   "metadata": {},
   "source": [
    "First Derivative"
   ]
  },
  {
   "cell_type": "code",
   "execution_count": null,
   "metadata": {},
   "outputs": [],
   "source": [
    "def deriv_forward(h, steps, xmin, xmax):\n",
    "    deriv = np.zeros(steps)\n",
    "    function = np.zeros(steps)\n",
    "    delta = (xmax-xmin)/(steps-1)\n",
    "    for i in range(0,steps-1):\n",
    "        x = i*delta+xmin\n",
    "        #function evaluation\n",
    "        func_now = sinc(1, DECAY_VAL, x)\n",
    "        func_prev = sinc(1, DECAY_VAL, x-h)\n",
    "        #derivative evaluation\n",
    "        deriv[i] = (func_now-func_prev)/h\n",
    "        function[i] = sinc(1, DECAY_VAL, x)\n",
    "    return function,deriv "
   ]
  },
  {
   "cell_type": "code",
   "execution_count": null,
   "metadata": {},
   "outputs": [],
   "source": [
    "def deriv_backward(h, steps, xmin, xmax):\n",
    "    deriv = np.zeros(steps)\n",
    "    function = np.zeros(steps)\n",
    "    delta = (xmax-xmin)/(steps-1)\n",
    "    for i in range(0,steps-1):\n",
    "        x = i*delta+xmin\n",
    "        #function evaluation\n",
    "        func_now = sinc(1, DECAY_VAL, x+h)\n",
    "        func_prev = sinc(1, DECAY_VAL, x)\n",
    "        #derivative evaluation\n",
    "        deriv[i] = (func_now-func_prev)/h\n",
    "        function[i] = sinc(1, DECAY_VAL, x)\n",
    "    return function,deriv "
   ]
  },
  {
   "cell_type": "code",
   "execution_count": null,
   "metadata": {},
   "outputs": [],
   "source": [
    "def deriv_central(h, steps, xmin, xmax):\n",
    "    deriv = np.zeros(steps)\n",
    "    function = np.zeros(steps)\n",
    "    delta = (xmax-xmin)/(steps-1)\n",
    "    for i in range(0,steps-1):\n",
    "        x = i*delta+xmin\n",
    "        #function evaluation\n",
    "        func_now = sinc(1, DECAY_VAL, x+h)\n",
    "        func_prev = sinc(1, DECAY_VAL, x-h)\n",
    "        #derivative evaluation\n",
    "        deriv[i] = (func_now-func_prev)/(2*h)\n",
    "        function[i] = sinc(1, DECAY_VAL, x)\n",
    "    return function,deriv "
   ]
  },
  {
   "cell_type": "code",
   "execution_count": null,
   "metadata": {
    "scrolled": true
   },
   "outputs": [],
   "source": [
    "data_f = deriv_forward(0.5,200,-7,+7)\n",
    "data_b = deriv_backward(0.5,200,-7,+7)\n",
    "data_c = deriv_central(0.5,200,-7,+7)\n",
    "xval = np.linspace(-7,7,200)\n",
    "plt.title(\"Forward, Backward, and Central difference methods with h=0.5\")\n",
    "plt.plot(xval,data_f[0])\n",
    "plt.plot(xval,data_f[1])\n",
    "plt.plot(xval,data_b[1])\n",
    "plt.plot(xval,data_c[1])\n",
    "plt.legend([\"$f(x)$\",\"$f'(x)_f$\",\"$f'(x)_b$\",\"$f'(x)_c$\"])"
   ]
  },
  {
   "cell_type": "code",
   "execution_count": null,
   "metadata": {},
   "outputs": [],
   "source": [
    "data_f = deriv_forward(0.05,200,-7,+7)\n",
    "data_b = deriv_backward(0.05,200,-7,+7)\n",
    "data_c = deriv_central(0.05,200,-7,+7)\n",
    "xval = np.linspace(-7,7,200)\n",
    "plt.title(\"Forward, Backward, and Central difference methods with h=0.05\")\n",
    "plt.plot(xval,data_f[0])\n",
    "plt.plot(xval,data_f[1])\n",
    "plt.plot(xval,data_b[1])\n",
    "plt.plot(xval,data_c[1])\n",
    "plt.legend([\"$f(x)$\",\"$f'(x)_f$\",\"$f'(x)_b$\",\"$f'(x)_c$\"])"
   ]
  },
  {
   "cell_type": "code",
   "execution_count": null,
   "metadata": {
    "scrolled": false
   },
   "outputs": [],
   "source": [
    "data_fp05 = deriv_forward(0.05,200,-7,+7)\n",
    "data_fp5 = deriv_forward(0.5,200,-7,+7)\n",
    "xval = np.linspace(-7,7,200)\n",
    "plt.title(\"Forward difference method with h=0.05 and h=0.5\")\n",
    "plt.plot(xval,data_fp05[0])\n",
    "plt.plot(xval,data_fp05[1])\n",
    "plt.plot(xval,data_fp5[1])\n",
    "plt.legend([\"$f(x)$\",\"$f'(x)_f$; $h=0.05$\",\"$f'(x)_f$; $h=0.5$\"])"
   ]
  },
  {
   "cell_type": "markdown",
   "metadata": {},
   "source": [
    "Second Derivative"
   ]
  },
  {
   "cell_type": "code",
   "execution_count": null,
   "metadata": {},
   "outputs": [],
   "source": [
    "def second_deriv_f(h, steps, xmin, xmax):\n",
    "    deriv = np.zeros(steps)\n",
    "    function = np.zeros(steps)\n",
    "    delta = (xmax-xmin)/(steps-1)\n",
    "    for i in range(0,steps-1):\n",
    "        x = i*delta+xmin\n",
    "        #function evaluation\n",
    "        func_ahead = sinc(1, DECAY_VAL, x+2*h)\n",
    "        func_plus = sinc(1, DECAY_VAL, x+h)\n",
    "        func_now = sinc(1, DECAY_VAL, x)\n",
    "        #derivative evaluation\n",
    "        deriv[i] = (func_ahead-2*func_plus+func_now)/(h*h)\n",
    "        function[i] = sinc(1, DECAY_VAL, x)\n",
    "    return function,deriv "
   ]
  },
  {
   "cell_type": "code",
   "execution_count": null,
   "metadata": {},
   "outputs": [],
   "source": [
    "def second_deriv_b(h, steps, xmin, xmax):\n",
    "    deriv = np.zeros(steps)\n",
    "    function = np.zeros(steps)\n",
    "    delta = (xmax-xmin)/(steps-1)\n",
    "    for i in range(0,steps-1):\n",
    "        x = i*delta+xmin\n",
    "        #function evaluation\n",
    "        func_behind = sinc(1, DECAY_VAL, x-2*h)\n",
    "        func_minus = sinc(1, DECAY_VAL, x-h)\n",
    "        func_now = sinc(1, DECAY_VAL, x)\n",
    "        #derivative evaluation\n",
    "        deriv[i] = (func_now-2*func_minus+func_behind)/(h*h)\n",
    "        function[i] = sinc(1, DECAY_VAL, x)\n",
    "    return function,deriv "
   ]
  },
  {
   "cell_type": "code",
   "execution_count": null,
   "metadata": {},
   "outputs": [],
   "source": [
    "def second_deriv_c(h, steps, xmin, xmax):\n",
    "    deriv = np.zeros(steps)\n",
    "    function = np.zeros(steps)\n",
    "    delta = (xmax-xmin)/(steps-1)\n",
    "    for i in range(0,steps-1):\n",
    "        x = i*delta+xmin\n",
    "        #function evaluation\n",
    "        func_plus = sinc(1, DECAY_VAL, x+h)\n",
    "        func_minus = sinc(1, DECAY_VAL, x-h)\n",
    "        func_now = sinc(1, DECAY_VAL, x)\n",
    "        #derivative evaluation\n",
    "        deriv[i] = (func_plus-2*func_now+func_minus)/(h*h)\n",
    "        function[i] = sinc(1, DECAY_VAL, x)\n",
    "    return function,deriv "
   ]
  },
  {
   "cell_type": "code",
   "execution_count": null,
   "metadata": {},
   "outputs": [],
   "source": [
    "data_f = second_deriv_f(0.05,200,-7,+7)\n",
    "data_b = second_deriv_b(0.05,200,-7,+7)\n",
    "data_c = second_deriv_c(0.05,200,-7,+7)\n",
    "xval = np.linspace(-7,7,200)\n",
    "plt.title(\"2nd Deriv: Forward, Backward, and Central difference methods with h=0.05\")\n",
    "plt.plot(xval,data_f[0])\n",
    "plt.plot(xval,data_f[1])\n",
    "plt.plot(xval,data_b[1])\n",
    "plt.plot(xval,data_c[1])\n",
    "plt.legend([\"$f(x)$\",\"$f''(x)_f$\",\"$f''(x)_b$\",\"$f''(x)_c$\"])"
   ]
  }
 ],
 "metadata": {
  "kernelspec": {
   "display_name": "Python 3 (ipykernel)",
   "language": "python",
   "name": "python3"
  },
  "language_info": {
   "codemirror_mode": {
    "name": "ipython",
    "version": 3
   },
   "file_extension": ".py",
   "mimetype": "text/x-python",
   "name": "python",
   "nbconvert_exporter": "python",
   "pygments_lexer": "ipython3",
   "version": "3.9.7"
  }
 },
 "nbformat": 4,
 "nbformat_minor": 2
}
