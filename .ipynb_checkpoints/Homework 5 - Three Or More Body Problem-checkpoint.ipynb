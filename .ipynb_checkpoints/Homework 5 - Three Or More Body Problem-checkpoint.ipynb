{
 "cells": [
  {
   "cell_type": "code",
   "execution_count": 1,
   "metadata": {},
   "outputs": [
    {
     "ename": "ModuleNotFoundError",
     "evalue": "No module named 'numba'",
     "output_type": "error",
     "traceback": [
      "\u001b[0;31m---------------------------------------------------------------------------\u001b[0m",
      "\u001b[0;31mModuleNotFoundError\u001b[0m                       Traceback (most recent call last)",
      "Input \u001b[0;32mIn [1]\u001b[0m, in \u001b[0;36m<cell line: 8>\u001b[0;34m()\u001b[0m\n\u001b[1;32m      6\u001b[0m \u001b[38;5;28;01mimport\u001b[39;00m \u001b[38;5;21;01mplotly\u001b[39;00m\n\u001b[1;32m      7\u001b[0m \u001b[38;5;28;01mimport\u001b[39;00m \u001b[38;5;21;01mplotly\u001b[39;00m\u001b[38;5;21;01m.\u001b[39;00m\u001b[38;5;21;01mgraph_objs\u001b[39;00m \u001b[38;5;28;01mas\u001b[39;00m \u001b[38;5;21;01mgo\u001b[39;00m\n\u001b[0;32m----> 8\u001b[0m \u001b[38;5;28;01mimport\u001b[39;00m \u001b[38;5;21;01mnumba\u001b[39;00m\n\u001b[1;32m      9\u001b[0m \u001b[38;5;28;01mfrom\u001b[39;00m \u001b[38;5;21;01mnumba\u001b[39;00m \u001b[38;5;28;01mimport\u001b[39;00m jit\n\u001b[1;32m     10\u001b[0m \u001b[38;5;28;01mimport\u001b[39;00m \u001b[38;5;21;01mmatplotlib\u001b[39;00m\u001b[38;5;21;01m.\u001b[39;00m\u001b[38;5;21;01manimation\u001b[39;00m \u001b[38;5;28;01mas\u001b[39;00m \u001b[38;5;21;01manimation\u001b[39;00m\n",
      "\u001b[0;31mModuleNotFoundError\u001b[0m: No module named 'numba'"
     ]
    }
   ],
   "source": [
    "import matplotlib\n",
    "import matplotlib.pyplot as plt\n",
    "import numpy as np\n",
    "from pylab import *\n",
    "from mpl_toolkits.mplot3d import Axes3D\n",
    "import plotly\n",
    "import plotly.graph_objs as go\n",
    "import numba\n",
    "from numba import jit\n",
    "import matplotlib.animation as animation\n",
    "from matplotlib.animation import FuncAnimation\n",
    "# %matplotlib qt\n",
    "# %matplotlib notebook\n",
    "import seaborn\n",
    "from IPython.display import HTML\n",
    "import plotly.graph_objects as go"
   ]
  },
  {
   "cell_type": "code",
   "execution_count": null,
   "metadata": {},
   "outputs": [],
   "source": [
    "plotly.offline.init_notebook_mode()"
   ]
  },
  {
   "cell_type": "code",
   "execution_count": null,
   "metadata": {},
   "outputs": [],
   "source": [
    "def derivs_harmonic(state):\n",
    "    w = 1.0\n",
    "    result = np.copy(state)\n",
    "    result[0] = state[0]\n",
    "    result[1] = state[2]\n",
    "    result[2] = -w*w*state[1]\n",
    "    return result"
   ]
  },
  {
   "cell_type": "code",
   "execution_count": null,
   "metadata": {},
   "outputs": [],
   "source": [
    "#assumes that the input state has four variables per orbiting object (x,y,vx,vy)\n",
    "#t is [0], x positions is [1,N], y is [N+1,2N], vx is [2N+1,3N], vy is [3N+1,4N]\n",
    "BIG_G = 6.67408e-11#6.67408e-11 #(Nm^2)/kg^2\n",
    "# @jit(nopython=True)\n",
    "def derivs_2D_gravity(state):    \n",
    "    N = int((len(state)-1)/4)#number of bodies=(variables-time)/DOF\n",
    "    derivs = np.copy(state)\n",
    "    ovx = 2*N\n",
    "    ovy = 3*N\n",
    "    force_sum_x = np.zeros(N)\n",
    "    force_sum_y = np.zeros(N)\n",
    "    force_sum_x.fill(0.0)\n",
    "    force_sum_y.fill(0.0)\n",
    "    for i in range(1,N+1):\n",
    "        for j in range(i+1,N+1):\n",
    "            #find distance between objects i and j\n",
    "            xdist = (state[j]-state[i]) #xj-xi\n",
    "            ydist = (state[j+N]-state[i+N]) #yj-yi\n",
    "            dist = np.sqrt(xdist**2+ydist**2)\n",
    "            \n",
    "            #force interaction without mass scaling nor G\n",
    "            f_over_m_x = (xdist/(dist**3))\n",
    "            f_over_m_y = (ydist/(dist**3))\n",
    "            \n",
    "            #add force interaction scaled by mass j to obj i\n",
    "            force_sum_x[i-1] += masses[j-1]*f_over_m_x\n",
    "            force_sum_y[i-1] += masses[j-1]*f_over_m_y\n",
    "            \n",
    "            #subtract force interaction scaled by mass i to obj j abs\n",
    "            force_sum_x[j-1] -= masses[i-1]*f_over_m_x\n",
    "            force_sum_y[j-1] -= masses[i-1]*f_over_m_y\n",
    "        #fill data gathered for object i\n",
    "        derivs[i] = state[i+ovx]\n",
    "        derivs[i+N] = state[i+ovy]\n",
    "        derivs[i+ovx] = BIG_G*force_sum_x[i-1]\n",
    "        derivs[i+ovy] = BIG_G*force_sum_y[i-1]\n",
    "        #clear sum variable for ith object, leave the rest accumulating\n",
    "        force_sum_x[i-1] = 0.0\n",
    "        force_sum_y[i-1] = 0.0\n",
    "    return derivs"
   ]
  },
  {
   "cell_type": "code",
   "execution_count": null,
   "metadata": {},
   "outputs": [],
   "source": [
    "#assumes that the input state has 6 variables per orbiting object (x,y,z,vx,vy,vz)\n",
    "#t is [0], x positions is [1,N], y is [N+1,2N], z is [2N+1,3N],\n",
    "#vx is [3N+1,4N], vy is [4N+1,5N], vz is [5N+1,6N]\n",
    "BIG_G = 6.67408e-11 #(Nm^2)/kg^2\n",
    "def derivs_3D_gravity(state):    \n",
    "    N = int((len(state)-1)/6)#number of bodies=(variables-time)/DOF\n",
    "    derivs = np.copy(state)\n",
    "    oz = 2*N\n",
    "    ovx = 3*N\n",
    "    ovy = 4*N\n",
    "    ovz = 5*N\n",
    "    force_sum_x = np.zeros(N)\n",
    "    force_sum_y = np.zeros(N)\n",
    "    force_sum_z = np.zeros(N)\n",
    "    force_sum_x.fill(0.0)\n",
    "    force_sum_y.fill(0.0)\n",
    "    force_sum_z.fill(0.0)##todo from here down\n",
    "    for i in range(1,N+1):\n",
    "        for j in range(i+1,N+1):\n",
    "            #find distance between objects i and j\n",
    "            xdist = (state[j]-state[i]) #xj-xi\n",
    "            ydist = (state[j+N]-state[i+N]) #yj-yi\n",
    "            zdist = (state[j+oz]-state[i+oz]) #zj-zi\n",
    "            dist = np.sqrt(xdist**2+ydist**2+zdist**2)\n",
    "            \n",
    "            #force interaction without mass scaling nor G\n",
    "            f_over_m_x = (xdist/(dist**3))\n",
    "            f_over_m_y = (ydist/(dist**3))\n",
    "            f_over_m_z = (zdist/(dist**3))\n",
    "            \n",
    "            #add force interaction scaled by mass j to obj i\n",
    "            force_sum_x[i-1] += masses[j-1]*f_over_m_x\n",
    "            force_sum_y[i-1] += masses[j-1]*f_over_m_y\n",
    "            force_sum_z[i-1] += masses[j-1]*f_over_m_z\n",
    "            \n",
    "            #subtract force interaction scaled by mass i to obj j abs\n",
    "            force_sum_x[j-1] -= masses[i-1]*f_over_m_x\n",
    "            force_sum_y[j-1] -= masses[i-1]*f_over_m_y\n",
    "            force_sum_z[j-1] -= masses[i-1]*f_over_m_z\n",
    "        #fill data gathered for object i\n",
    "        derivs[i] = state[i+ovx]\n",
    "        derivs[i+N] = state[i+ovy]\n",
    "        derivs[i+oz] = state[i+ovz]\n",
    "        derivs[i+ovx] = BIG_G*force_sum_x[i-1]\n",
    "        derivs[i+ovy] = BIG_G*force_sum_y[i-1]\n",
    "        derivs[i+ovz] = BIG_G*force_sum_z[i-1]\n",
    "        #clear sum variable for ith object, leave the rest accumulating\n",
    "        force_sum_x[i-1] = 0.0\n",
    "        force_sum_y[i-1] = 0.0\n",
    "        force_sum_z[i-1] = 0.0\n",
    "    return derivs"
   ]
  },
  {
   "cell_type": "code",
   "execution_count": null,
   "metadata": {},
   "outputs": [],
   "source": [
    "#-----------------Dormand-Prince Coefficients--------\n",
    "dpc=[0,0.0,1.0/5.0,3.0/10.0,4.0/5.0,8.0/9.0,1.0,1.0]\n",
    "dpb=[0,35.0/384.0,0.0,500.0/1113.0,125.0/192.0,-2187.0/6784.0,11.0/84.0,0.0];\n",
    "dpbs=[0,5179.0/57600.0,0.0,7571.0/16695.0,393.0/640.0,-92097.0/339200.0,187.0/2100.0,1.0/40.0];\n",
    "dpa=[[0,0,0,0,0,0,0],\n",
    "[0,0,0,0,0,0,0],\n",
    "[0,1.0/5.0,0,0,0,0,0],\n",
    "[0,3.0/40.0,9.0/40.0,0,0,0,0],\n",
    "[0,44.0/45.0,-56.0/15.0,32.0/9.0,0,0,0],\n",
    "[0,19372.0/6561.0,-25360.0/2187.0,64448.0/6561.0,-212.0/729.0,0,0],\n",
    "[0,9017.0/3168.0,-355.0/33.0,46732.0/5247.0,49.0/176.0,-5103.0/18656.0,0],\n",
    "[0,35.0/384.0,0.0,500.0/1113.0,125.0/192.0,-2187.0/6784.0,11.0/84.0]]"
   ]
  },
  {
   "cell_type": "code",
   "execution_count": null,
   "metadata": {},
   "outputs": [],
   "source": [
    "# @jit(nopython=True)\n",
    "def rk45_step_try(state, state_derivs, h, deriv_func):\n",
    "    n = len(state)\n",
    "    temp_state = np.copy(state)\n",
    "    new_state = np.copy(state)\n",
    "    k_all = np.zeros((7,n)) #k storage, 0 index is empty\n",
    "    k_all[1][:] = h*np.copy(state_derivs) #k_1 is pre-calculated \n",
    "    for j in range(2,7): #iterate over k_2 through k_6\n",
    "        for k in range(1,j): #iterate over existing k values\n",
    "            #sum k values up to this one\n",
    "            temp_state[1:] = np.add(temp_state[1:], dpa[j][k]*k_all[k][1:])\n",
    "        #update temp_state independent variable (temp_state[0])\n",
    "        temp_state[0] = state[0] + h*dpc[j] \n",
    "        #use temp_state to calculate next k values\n",
    "        k_all[j][:] = h*deriv_func(temp_state)\n",
    "        #refresh temp_state to hold y_n only again\n",
    "        temp_state = np.copy(state)    \n",
    "    #refresh temp state to y_n\n",
    "    temp_state = np.copy(state)\n",
    "    temp_state_star = np.copy(state)\n",
    "    #update time step to a full h step\n",
    "    temp_state[0] = temp_state[0]+h\n",
    "    temp_state_star[0] = temp_state_star[0]+h\n",
    "    #for all elements, add together the b*k's for y_{n+1} and y^*_{n+1}\n",
    "    for k in range(1,7):\n",
    "        temp_state[1:] = np.add(temp_state[1:], dpb[k]*k_all[k][1:])\n",
    "        temp_state_star[1:] = np.add(temp_state_star[1:], dpbs[k]*k_all[k][1:])\n",
    "    #y_{n+1}* actually gets one more term\n",
    "    temp_state_star[1:] = np.add(temp_state_star[1:], dpbs[7]*h*(deriv_func(temp_state)[1:]))\n",
    "    #error calculation\n",
    "    error = np.copy(state) #same size and shape\n",
    "    error[0] = 0 #same dependent variable for both\n",
    "    error[1:] = np.subtract(temp_state[1:],temp_state_star[1:])\n",
    "    return temp_state, error"
   ]
  },
  {
   "cell_type": "code",
   "execution_count": null,
   "metadata": {},
   "outputs": [],
   "source": [
    "#generic rk4 driver for constant step size\n",
    "#no error checking/input cleaning\n",
    "#tmin is state_init[0] as the starting independent variable\n",
    "#returns full data across all variables through tmin\n",
    "#output[:,0] = t; output[:,1] = x(t); ...\n",
    "# @jit(nopython=True)\n",
    "def ghk_rk4(tmax, state_init, h, deriv_func):\n",
    "    points = int((tmax-state_init[0])/h)\n",
    "    print(\"Calculating \"+str(points)+\" points.\")\n",
    "    derivs_init = deriv_func(state_init)\n",
    "    state_storage = np.empty((0,len(state_init))) #create 2d array    \n",
    "    state_storage = np.append(state_storage,[state_init],axis=0) #initial state\n",
    "    old_state = np.copy(state_init) #used to generate next state\n",
    "    next_state = np.copy(state_init) #stores new calculated state\n",
    "    old_derivs = np.copy(derivs_init) #used to generate next state\n",
    "    for j in range(0,points-1):\n",
    "        old_state = next_state\n",
    "        old_derivs = deriv_func(next_state)\n",
    "        (next_state,error) = rk45_step_try(old_state,old_derivs,h,deriv_func)\n",
    "#         next_state = rk4_step(old_state,old_derivs,h,deriv_func)\n",
    "        state_storage = np.append(state_storage,[next_state],axis=0)\n",
    "        if(j%(int(points*0.1))==0):\n",
    "            print(str(j)+\" points calculated.\")\n",
    "    return state_storage    "
   ]
  },
  {
   "cell_type": "code",
   "execution_count": null,
   "metadata": {},
   "outputs": [],
   "source": [
    "#INITIAL_CONDITIONS 2D\n",
    "radii = [6.96e8, 6.378e6, 3.3934e6, 7.1398e7] #S,E,M,J\n",
    "masses = [1.9891e30, 5.9742e24, 0.64191e24, 1898.8e24] #S,E,M,J\n",
    "Sx = 0.0\n",
    "Ex = 149.598e9\n",
    "Mx = 228.0e9\n",
    "Jx = 778.298e9\n",
    "Sy = 0.0\n",
    "Ey = 0.0\n",
    "My = 0.0\n",
    "Jy = 0.0\n",
    "Svx = 0.0\n",
    "Evx = 0.0\n",
    "Mvx = 0.0\n",
    "Jvx = 0.0\n",
    "Svy = -3.0e1\n",
    "Evy = 2.9786e4\n",
    "Mvy = 2.4127e4\n",
    "Jvy = 1.30588e4\n",
    "init_state = [0.0,Sx,Ex,Mx,Jx,Sy,Ey,My,Jy,Svx,Evx,Mvx,Jvx,Svy,Evy,Mvy,Jvy]"
   ]
  },
  {
   "cell_type": "code",
   "execution_count": null,
   "metadata": {},
   "outputs": [],
   "source": [
    "#INITIAL_CONDITIONS 3D\n",
    "radii_3d = [6.96e8, 6.378e6, 3.3934e6, 7.1398e7] #S,E,M,J\n",
    "masses_3d = [1.9891e30, 5.9742e24, 0.64191e24, 1898.8e24] #S,E,M,J\n",
    "Sx = 0.0\n",
    "Ex = 149.598e9\n",
    "Mx = 228.0e9\n",
    "Jx = 778.298e9\n",
    "Sy = 0.0\n",
    "Ey = 0.0\n",
    "My = 0.0\n",
    "Jy = 0.0\n",
    "Sz = 0.0\n",
    "Ez = 0.0\n",
    "Mz = 0.0\n",
    "Jz = 0.0\n",
    "Svx = 0.0\n",
    "Evx = 0.0\n",
    "Mvx = 0.0\n",
    "Jvx = 0.0\n",
    "Svy = -3.0e1\n",
    "Evy = 2.9786e4\n",
    "Mvy = 2.4127e4\n",
    "Jvy = 1.30588e4\n",
    "Svz = 0\n",
    "Evz = 0\n",
    "Mvz = 0\n",
    "Jvz = 0\n",
    "init_state_3d = [0.0,Sx,Ex,Mx,Jx,Sy,Ey,My,Jy,Sz,Ez,Mz,Jz,Svx,Evx,Mvx,Jvx,Svy,Evy,Mvy,Jvy,Svz,Evz,Mvz,Jvz]"
   ]
  },
  {
   "cell_type": "code",
   "execution_count": null,
   "metadata": {
    "scrolled": true
   },
   "outputs": [],
   "source": [
    "#try the harmonic oscillator\n",
    "# harmonic_data = ghk_rk4(20*np.pi, [0.0,1.0,0.0], .01, derivs_harmonic)"
   ]
  },
  {
   "cell_type": "code",
   "execution_count": null,
   "metadata": {},
   "outputs": [],
   "source": [
    "# plt.plot(harmonic_data[:,0],harmonic_data[:,1]);\n",
    "# plt.plot(harmonic_data[:,0],harmonic_data[:,2]);"
   ]
  },
  {
   "cell_type": "code",
   "execution_count": null,
   "metadata": {},
   "outputs": [],
   "source": [
    "# plt.plot(harmonic_data[:,1],harmonic_data[:,2]);\n",
    "# plt.axis('square');"
   ]
  },
  {
   "cell_type": "code",
   "execution_count": null,
   "metadata": {
    "scrolled": true
   },
   "outputs": [],
   "source": [
    "orbits = ghk_rk4(25e7, init_state, 1e4, derivs_2D_gravity)"
   ]
  },
  {
   "cell_type": "code",
   "execution_count": null,
   "metadata": {
    "scrolled": false
   },
   "outputs": [],
   "source": [
    "# %matplotlib inline \n",
    "plt.plot(orbits[:,1],orbits[:,1+len(masses)],'orange');\n",
    "plt.plot(orbits[:,2],orbits[:,2+len(masses)],'blue');\n",
    "plt.plot(orbits[:,3],orbits[:,3+len(masses)],'red');\n",
    "plt.plot(orbits[:,4],orbits[:,4+len(masses)],'magenta');\n",
    "plt.axis('square');"
   ]
  },
  {
   "cell_type": "code",
   "execution_count": null,
   "metadata": {
    "scrolled": true
   },
   "outputs": [],
   "source": [
    "orbits = ghk_rk4(10e7, init_state_3d, 1e4, derivs_3D_gravity)"
   ]
  },
  {
   "cell_type": "code",
   "execution_count": null,
   "metadata": {
    "scrolled": true
   },
   "outputs": [],
   "source": [
    "# %matplotlib inline \n",
    "plt.plot(orbits[:,1],orbits[:,1+len(masses)],'orange');\n",
    "plt.plot(orbits[:,2],orbits[:,2+len(masses)],'blue');\n",
    "plt.plot(orbits[:,3],orbits[:,3+len(masses)],'red');\n",
    "plt.plot(orbits[:,4],orbits[:,4+len(masses)],'magenta');\n",
    "plt.axis('square');"
   ]
  },
  {
   "cell_type": "code",
   "execution_count": null,
   "metadata": {},
   "outputs": [],
   "source": [
    "#make 3d plot of chaotic system data for rossler and lorenz systems\n",
    "# copied from https://stackoverflow.com/questions/38364435/python-matplotlib-make-3d-plot-interactive-in-jupyter-notebook\n",
    "# and https://plotly.com/python/3d-line-plots/\n",
    "def plot_3d_custom(data_3d):\n",
    "    #configure traces of all objects:\n",
    "    colors = ['orange','blue','red','magenta']\n",
    "    bodies = len(masses)\n",
    "    data = []\n",
    "    for i in range(0,bodies):\n",
    "        # Configure the trace.\n",
    "        trace = go.Scatter3d(\n",
    "            x=data_3d[:,i+1],  # <-- Put your data instead\n",
    "            y=data_3d[:,i+1+bodies],  # <-- Put your data instead\n",
    "            z=data_3d[:,i+1+2*bodies],  # <-- Put your data instead\n",
    "            mode='lines',\n",
    "#             marker={\n",
    "#                 'size': radii_3d[i]/min(radii_3d),\n",
    "#                 'opacity': 0.8,\n",
    "#             },\n",
    "            line=dict(\n",
    "            color=colors[i],\n",
    "            width=radii_3d[i]/(2*min(radii_3d))\n",
    "            )\n",
    "        )\n",
    "        data.append(trace)\n",
    "    \n",
    "    # Configure the layout.\n",
    "    layout = go.Layout(\n",
    "        margin={'l': 0, 'r': 0, 'b': 0, 't': 0}\n",
    "    )\n",
    "\n",
    "#     data = [trace_1,trace_2]\n",
    "\n",
    "    plot_figure = go.Figure(data=data, layout=layout)\n",
    "\n",
    "    # Render the plot.\n",
    "    plotly.offline.iplot(plot_figure)"
   ]
  },
  {
   "cell_type": "code",
   "execution_count": null,
   "metadata": {},
   "outputs": [],
   "source": [
    "plot_3d_custom(orbits)"
   ]
  },
  {
   "cell_type": "code",
   "execution_count": null,
   "metadata": {
    "scrolled": true
   },
   "outputs": [],
   "source": [
    "\n",
    "# # # Import pandas library\n",
    "# # import pandas as pd\n",
    " \n",
    "# # # initialize list of lists\n",
    "# # data = [['tom', 10], ['nick', 15], ['juli', 14]]\n",
    " \n",
    "# # # Create the pandas DataFrame\n",
    "# # df = pd.DataFrame(data, columns = ['Name', 'Age'])\n",
    " \n",
    "# # # print dataframe.\n",
    "# # df\n",
    "\n",
    "# import pandas as pd\n",
    "# data = []\n",
    "# for i in range(0, orbits.shape[0]):\n",
    "#     chunk = ['sun',orbits[i,0]/10000,orbits[i,1],orbits[i,1+len(masses)]]\n",
    "#     data.append(chunk)\n",
    "#     chunk = ['earth',orbits[i,0]/10000,orbits[i,2],orbits[i,2+len(masses)]]\n",
    "#     data.append(chunk)\n",
    "#     chunk = ['mars',orbits[i,0]/10000,orbits[i,3],orbits[i,3+len(masses)]]\n",
    "#     data.append(chunk)\n",
    "#     chunk = ['jupiter',orbits[i,0]/10000,orbits[i,4],orbits[i,4+len(masses)]]\n",
    "#     data.append(chunk)\n",
    "# df = pd.DataFrame(data, columns = ['body', 'body_time', 'body_xpos', 'body_ypos'])\n",
    "# # df"
   ]
  },
  {
   "cell_type": "code",
   "execution_count": null,
   "metadata": {},
   "outputs": [],
   "source": [
    "# fig.layout.updatemenus[0].buttons[0].args[1]['frame']['duration'] = 100\n",
    "# fig.layout.updatemenus[0].buttons[0].args[1]['transition']['duration'] = 5"
   ]
  },
  {
   "cell_type": "code",
   "execution_count": null,
   "metadata": {
    "scrolled": false
   },
   "outputs": [],
   "source": [
    "# import plotly.express as px\n",
    "\n",
    "# # df = px.data.gapminder()\n",
    "\n",
    "# # fig = px.bar(df, x=\"continent\", y=\"pop\", color=\"continent\",\n",
    "# #   animation_frame=\"year\", animation_group=\"country\", range_y=[0,4000000000])\n",
    "# # fig.show()\n",
    "\n",
    "# fig = px.scatter(df, x=\"body_xpos\", y=\"body_ypos\", color='body',\n",
    "#   animation_frame=\"body_time\", animation_group=\"body\", range_y=[-8e11,8e11], range_x=[-8e11,8e11])\n",
    "# fig.update_yaxes(\n",
    "#     scaleanchor = \"x\",\n",
    "#     scaleratio = 1,\n",
    "#   )\n",
    "# fig.layout.updatemenus[0].buttons[0].args[1]['frame']['duration'] = 100\n",
    "# fig.layout.updatemenus[0].buttons[0].args[1]['transition']['duration'] = 5\n",
    "# fig.show()"
   ]
  }
 ],
 "metadata": {
  "kernelspec": {
   "display_name": "Python 3 (ipykernel)",
   "language": "python",
   "name": "python3"
  },
  "language_info": {
   "codemirror_mode": {
    "name": "ipython",
    "version": 3
   },
   "file_extension": ".py",
   "mimetype": "text/x-python",
   "name": "python",
   "nbconvert_exporter": "python",
   "pygments_lexer": "ipython3",
   "version": "3.9.7"
  }
 },
 "nbformat": 4,
 "nbformat_minor": 2
}
