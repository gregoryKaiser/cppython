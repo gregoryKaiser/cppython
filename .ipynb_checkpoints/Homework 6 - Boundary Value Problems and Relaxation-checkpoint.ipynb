{
 "cells": [
  {
   "cell_type": "code",
   "execution_count": 20,
   "id": "f41e98d2",
   "metadata": {},
   "outputs": [],
   "source": [
    "import matplotlib\n",
    "import matplotlib.pyplot as plt\n",
    "import numpy as np\n",
    "np.set_printoptions(threshold=np.inf)\n",
    "# from pylab import *\n",
    "# from mpl_toolkits.mplot3d import Axes3D\n",
    "# import plotly\n",
    "# import plotly.graph_objs as go\n",
    "# import numba\n",
    "# from numba import jit\n",
    "# import matplotlib.animation as animation\n",
    "# from matplotlib.animation import FuncAnimation\n",
    "# %matplotlib qt\n",
    "# %matplotlib notebook\n",
    "# import seaborn\n",
    "# from IPython.display import HTML\n",
    "# import plotly.graph_objects as go"
   ]
  },
  {
   "cell_type": "code",
   "execution_count": 28,
   "id": "c451b9e1",
   "metadata": {},
   "outputs": [],
   "source": [
    "#constants\n",
    "r1, r2, r3, rmax, z1, z2, z3, zmax = 2, 3, 10, 15, -2, 1.5, 3.0, 15\n",
    "h= 0.1 #0.1 mm grid spacing in r and z\n",
    "v0, v1, v2 = 0, 0, 2500 #voltage in volts bound (flag 1), outer (flag 2), inner (flag 3)"
   ]
  },
  {
   "cell_type": "code",
   "execution_count": 94,
   "id": "d91951b9",
   "metadata": {},
   "outputs": [],
   "source": [
    "#generate boundary conditions for the disks in the electron lens\n",
    "# using the given grid spacing value\n",
    "def gen_bounds(h):\n",
    "    imax = int((rmax/h))\n",
    "    jmax = 2*int((zmax/h))\n",
    "    flag_grid = np.zeros((imax,jmax)).astype(int)\n",
    "    #three hard walls of V=0\n",
    "    flag_grid[imax-1,:] = 1\n",
    "    flag_grid[:,0]= 1\n",
    "    flag_grid[:,jmax-1] = 1\n",
    "    #first plate\n",
    "    plate_1_z = int(jmax/2+z1/h)\n",
    "    plate_1_rmin = int(r1/h)\n",
    "    plate_1_rmax = int(r3/h)\n",
    "    flag_grid[plate_1_rmin:plate_1_rmax+1,plate_1_z] = 2\n",
    "    #second plate\n",
    "    plate_2_z = int(jmax/2)\n",
    "    plate_2_rmin = int(r2/h)\n",
    "    plate_2_rmax = int(r3/h)\n",
    "    flag_grid[plate_2_rmin:plate_2_rmax+1,plate_2_z] = 3\n",
    "    #third plate\n",
    "    plate_3_zmin = int(jmax/2+z2/h)\n",
    "    plate_3_zmax = int(jmax/2+z3/h)\n",
    "    plate_3_rmin = int(r2/h)\n",
    "    plate_3_rmax = int(r3/h)\n",
    "    flag_grid[plate_3_rmin:plate_3_rmax+1,plate_3_zmin:plate_3_zmax] = 2\n",
    "    return flag_grid"
   ]
  },
  {
   "cell_type": "code",
   "execution_count": null,
   "id": "c1de07eb",
   "metadata": {},
   "outputs": [],
   "source": [
    "#generate initial condition based on flag grid given\n",
    "#fills potentials based on voltages\n",
    "def gen_pot(flags):\n",
    "    "
   ]
  },
  {
   "cell_type": "code",
   "execution_count": 98,
   "id": "b7ce1972",
   "metadata": {},
   "outputs": [
    {
     "name": "stdout",
     "output_type": "stream",
     "text": [
      "[[0. 0. 0. 0. 0. 0. 0. 0. 0. 0. 0. 0. 0. 0. 0. 0. 0. 0. 0. 0. 0. 0. 0. 0.\n",
      "  0. 0. 0. 0. 0. 0.]\n",
      " [0. 0. 0. 0. 0. 0. 0. 0. 0. 0. 0. 0. 0. 0. 0. 0. 0. 0. 0. 0. 0. 0. 0. 0.\n",
      "  0. 0. 0. 0. 0. 0.]\n",
      " [0. 0. 0. 0. 0. 0. 0. 0. 0. 0. 0. 0. 0. 0. 0. 0. 0. 0. 0. 0. 0. 0. 0. 0.\n",
      "  0. 0. 0. 0. 0. 0.]\n",
      " [0. 0. 0. 0. 0. 0. 0. 0. 0. 0. 0. 0. 0. 0. 0. 0. 0. 0. 0. 0. 0. 0. 0. 0.\n",
      "  0. 0. 0. 0. 0. 0.]\n",
      " [0. 0. 0. 0. 0. 0. 0. 0. 0. 0. 0. 0. 0. 0. 0. 0. 0. 0. 0. 0. 0. 0. 0. 0.\n",
      "  0. 0. 0. 0. 0. 0.]\n",
      " [0. 0. 0. 0. 0. 0. 0. 0. 0. 0. 0. 0. 0. 0. 0. 0. 0. 0. 0. 0. 0. 0. 0. 0.\n",
      "  0. 0. 0. 0. 0. 0.]\n",
      " [0. 0. 0. 0. 0. 0. 0. 0. 0. 0. 0. 0. 0. 0. 0. 0. 0. 0. 0. 0. 0. 0. 0. 0.\n",
      "  0. 0. 0. 0. 0. 0.]\n",
      " [0. 0. 0. 0. 0. 0. 0. 0. 0. 0. 0. 0. 0. 0. 0. 0. 0. 0. 0. 0. 0. 0. 0. 0.\n",
      "  0. 0. 0. 0. 0. 0.]\n",
      " [0. 0. 0. 0. 0. 0. 0. 0. 0. 0. 0. 0. 0. 0. 0. 0. 0. 0. 0. 0. 0. 0. 0. 0.\n",
      "  0. 0. 0. 0. 0. 0.]\n",
      " [0. 0. 0. 0. 0. 0. 0. 0. 0. 0. 0. 0. 0. 0. 0. 0. 0. 0. 0. 0. 0. 0. 0. 0.\n",
      "  0. 0. 0. 0. 0. 0.]\n",
      " [0. 0. 0. 0. 0. 0. 0. 0. 0. 0. 0. 0. 0. 0. 0. 0. 0. 0. 0. 0. 0. 0. 0. 0.\n",
      "  0. 0. 0. 0. 0. 0.]\n",
      " [0. 0. 0. 0. 0. 0. 0. 0. 0. 0. 0. 0. 0. 0. 0. 0. 0. 0. 0. 0. 0. 0. 0. 0.\n",
      "  0. 0. 0. 0. 0. 0.]\n",
      " [0. 0. 0. 0. 0. 0. 0. 0. 0. 0. 0. 0. 0. 0. 0. 0. 0. 0. 0. 0. 0. 0. 0. 0.\n",
      "  0. 0. 0. 0. 0. 0.]\n",
      " [0. 0. 0. 0. 0. 0. 0. 0. 0. 0. 0. 0. 0. 0. 0. 0. 0. 0. 0. 0. 0. 0. 0. 0.\n",
      "  0. 0. 0. 0. 0. 0.]\n",
      " [0. 0. 0. 0. 0. 0. 0. 0. 0. 0. 0. 0. 0. 0. 0. 0. 0. 0. 0. 0. 0. 0. 0. 0.\n",
      "  0. 0. 0. 0. 0. 0.]]\n"
     ]
    }
   ],
   "source": [
    "flags = gen_bounds(h)\n",
    "potential = gen_pot(flags)\n",
    "for i in range(0,potential.shape[0]):\n",
    "    for j in range(1,potential.shape[1]):\n",
    "        #check flags\n",
    "        if flags[i][j]>0:\n",
    "            #ignore boundary condition"
   ]
  }
 ],
 "metadata": {
  "kernelspec": {
   "display_name": "Python 3 (ipykernel)",
   "language": "python",
   "name": "python3"
  },
  "language_info": {
   "codemirror_mode": {
    "name": "ipython",
    "version": 3
   },
   "file_extension": ".py",
   "mimetype": "text/x-python",
   "name": "python",
   "nbconvert_exporter": "python",
   "pygments_lexer": "ipython3",
   "version": "3.9.7"
  }
 },
 "nbformat": 4,
 "nbformat_minor": 5
}
