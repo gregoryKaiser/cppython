{
 "cells": [
  {
   "cell_type": "code",
   "execution_count": 1,
   "id": "f41e98d2",
   "metadata": {},
   "outputs": [],
   "source": [
    "import matplotlib\n",
    "import matplotlib.pyplot as plt\n",
    "import numpy as np\n",
    "np.set_printoptions(threshold=np.inf)"
   ]
  },
  {
   "cell_type": "code",
   "execution_count": 2,
   "id": "c451b9e1",
   "metadata": {},
   "outputs": [],
   "source": [
    "#constants\n",
    "r1, r2, r3, rmax, z1, z2, z3, zmax = 2, 3, 10, 15, -2, 1.5, 3.0, 15\n",
    "h = 0.1 #0.1 mm grid spacing in r and z\n",
    "v0, v1, v2 = 0, 0, 2500 #voltage in volts bound (flag 1), outer (flag 2), inner (flag 3)"
   ]
  },
  {
   "cell_type": "code",
   "execution_count": 3,
   "id": "d91951b9",
   "metadata": {},
   "outputs": [],
   "source": [
    "#generate boundary conditions for the disks in the electron lens\n",
    "# using the given grid spacing value\n",
    "def gen_bounds(h):\n",
    "    jmax = int((rmax/h))\n",
    "    imax = 2*int((zmax/h))\n",
    "    flag_grid = np.zeros((imax,jmax)).astype(int)\n",
    "    #three hard walls of V=0\n",
    "    flag_grid[:,jmax-1] = 1\n",
    "    flag_grid[0,:]= 1\n",
    "    flag_grid[imax-1,:] = 1\n",
    "    #first plate\n",
    "    plate_1_z = int(imax/2+z1/h)\n",
    "    plate_1_rmin = int(r1/h)\n",
    "    plate_1_rmax = int(r3/h)\n",
    "    flag_grid[plate_1_z,plate_1_rmin:plate_1_rmax+1] = 2\n",
    "    #second plate\n",
    "    plate_2_z = int(imax/2)\n",
    "    plate_2_rmin = int(r2/h)\n",
    "    plate_2_rmax = int(r3/h)\n",
    "    flag_grid[plate_2_z,plate_2_rmin:plate_2_rmax+1] = 3\n",
    "    #third plate\n",
    "    plate_3_zmin = int(imax/2+z2/h)\n",
    "    plate_3_zmax = int(imax/2+z3/h)\n",
    "    plate_3_rmin = int(r2/h)\n",
    "    plate_3_rmax = int(r3/h)\n",
    "    flag_grid[plate_3_zmin:plate_3_zmax,plate_3_rmin:plate_3_rmax+1] = 2\n",
    "    return flag_grid"
   ]
  },
  {
   "cell_type": "code",
   "execution_count": 4,
   "id": "c1de07eb",
   "metadata": {},
   "outputs": [],
   "source": [
    "#generate initial condition based on flag grid given\n",
    "#fills potentials based on voltages\n",
    "def gen_pot(flags):\n",
    "    potentials = np.zeros(flags.shape)\n",
    "    for i in range(0,flags.shape[0]):\n",
    "        for j in range(0,flags.shape[1]):\n",
    "            if flags[i][j]==1:\n",
    "                potentials[i][j] = v0\n",
    "            elif flags[i][j]==2:\n",
    "                potentials[i][j] = v1\n",
    "            elif flags[i][j]==3:\n",
    "                potentials[i][j] = v2\n",
    "    return potentials"
   ]
  },
  {
   "cell_type": "code",
   "execution_count": 24,
   "id": "1df3ab3e",
   "metadata": {},
   "outputs": [],
   "source": [
    "#do one cycle of the laplace equation relaxation update\n",
    "#return updated potentials and max change\n",
    "#uses a Gauss-Seidel method for weighted update, omega is relaxation parameter\n",
    "def update_potentials(pot, flags, omega):\n",
    "   #loop through to update potential based on laplace equation\n",
    "#     outpot = np.copy(pot)\n",
    "    temp = 0.0\n",
    "    maxchange = 0.0\n",
    "    for i in range(1,pot.shape[0]-1):\n",
    "        for j in range(1,pot.shape[1]-1):\n",
    "            #check flag\n",
    "            if flags[i][j]==0:\n",
    "                term1 = .25*(pot[i][j+1]+pot[i][j-1]+pot[i+1][j]+pot[i-1][j])\n",
    "                term2 = .125*(pot[i][j+1]-pot[i][j-1])/j\n",
    "                temp = term1+term2\n",
    "                #update maxchange\n",
    "                delta = abs(pot[i][j]-temp)\n",
    "                if delta>maxchange:\n",
    "                    maxchange = delta\n",
    "                #update weighted by gauss-seidel relaxation param\n",
    "#                 outpot[i][j] = (1-omega)*pot[i][j]+omega*outpot[i][j]\n",
    "                pot[i][j] = (1-omega)*pot[i][j]+omega*temp\n",
    "            else:\n",
    "                pass #don't change value of boundary condition\n",
    "    #on-axis special condition\n",
    "    for i in range(1,pot.shape[0]-1):\n",
    "        #check flag\n",
    "        if flags[i][0]==0:\n",
    "            temp = (4*pot[i][1]+pot[i+1][0]+pot[i-1][0])/6\n",
    "            #update maxchange\n",
    "            delta = abs(pot[i][j]-temp)\n",
    "            if delta>maxchange:\n",
    "                maxchange = delta\n",
    "            #update weighted by gauss-seidel relaxation param\n",
    "#             outpot[i][j] = (1-omega)*pot[i][j]+omega*outpot[i][j]\n",
    "            pot[i][j] = (1-omega)*pot[i][j]+omega*temp\n",
    "        else:\n",
    "            pass #don't change value of boundary condition \n",
    "    return pot, maxchange"
   ]
  },
  {
   "cell_type": "code",
   "execution_count": 22,
   "id": "87a1dff8",
   "metadata": {},
   "outputs": [],
   "source": [
    "#continue updating potential until a tolerance is reached\n",
    "def calculate_potential(pot, flags, tol, omega):\n",
    "    oldpot = pot\n",
    "    change = tol+1\n",
    "    iterations = 0\n",
    "    while change>tol:\n",
    "        newpot, change = update_potentials(oldpot, flags, omega)\n",
    "        oldpot = newpot\n",
    "        iterations += 1 \n",
    "    return (newpot, iterations)"
   ]
  },
  {
   "cell_type": "code",
   "execution_count": null,
   "id": "b7ce1972",
   "metadata": {
    "scrolled": true
   },
   "outputs": [],
   "source": [
    "h = 1\n",
    "tolerance = 1\n",
    "omega = 1.1\n",
    "flags = gen_bounds(h) #gen bounds with resolution h\n",
    "potential = gen_pot(flags) #gen potentials based on bounds\n",
    "final_field, nits = calculate_potential(potential, flags, tolerance, omega) #generate final field\n",
    "# plot setup and show\n",
    "r = np.linspace(0,rmax,int(rmax/h))\n",
    "z = np.linspace(-zmax,zmax,2*int(zmax/h)) \n",
    "plt.contour(z,r,np.swapaxes(final_field,0,1),20);\n",
    "print(nits)"
   ]
  },
  {
   "cell_type": "code",
   "execution_count": 15,
   "id": "eda3e887",
   "metadata": {},
   "outputs": [
    {
     "data": {
      "image/png": "[encoded data removed]",
      "text/plain": [
       "<Figure size 432x288 with 1 Axes>"
      ]
     },
     "metadata": {
      "needs_background": "light"
     },
     "output_type": "display_data"
    }
   ],
   "source": [
    "r = np.linspace(0,rmax,int(rmax/h))\n",
    "z = np.linspace(-zmax,zmax,2*int(zmax/h)) \n",
    "plt.contour(z,r,np.swapaxes(final_field,0,1),10);"
   ]
  },
  {
   "cell_type": "code",
   "execution_count": 9,
   "id": "5345cb44",
   "metadata": {},
   "outputs": [
    {
     "data": {
      "text/plain": [
       "[<matplotlib.lines.Line2D at 0x7fc219ac3700>]"
      ]
     },
     "execution_count": 9,
     "metadata": {},
     "output_type": "execute_result"
    },
    {
     "data": {
      "image/png": "[encoded data removed]",
      "text/plain": [
       "<Figure size 432x288 with 1 Axes>"
      ]
     },
     "metadata": {
      "needs_background": "light"
     },
     "output_type": "display_data"
    }
   ],
   "source": [
    "num_pts = 20\n",
    "x = np.linspace(0.1,0.9,num_pts)\n",
    "iterations = np.zeros(num_pts)\n",
    "for i in range(0,num_pts):\n",
    "    _, nits = calculate_potential(potential, flags, tolerance, x[i])\n",
    "    iterations[i] = nits\n",
    "plt.plot(x,iterations)"
   ]
  }
 ],
 "metadata": {
  "kernelspec": {
   "display_name": "Python 3 (ipykernel)",
   "language": "python",
   "name": "python3"
  },
  "language_info": {
   "codemirror_mode": {
    "name": "ipython",
    "version": 3
   },
   "file_extension": ".py",
   "mimetype": "text/x-python",
   "name": "python",
   "nbconvert_exporter": "python",
   "pygments_lexer": "ipython3",
   "version": "3.9.7"
  }
 },
 "nbformat": 4,
 "nbformat_minor": 5
}
